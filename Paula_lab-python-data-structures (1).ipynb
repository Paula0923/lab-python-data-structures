{
 "cells": [
  {
   "cell_type": "code",
   "execution_count": 1,
   "id": "159218ce-5872-4a8f-a1db-c4950197c2f0",
   "metadata": {},
   "outputs": [
    {
     "name": "stdin",
     "output_type": "stream",
     "text": [
      "Please state the quantity of the t-shirts:  52\n",
      "Please state the quantity of the mugs:  5\n",
      "Please state the quantity of the hats:  3\n",
      "Please state the quantity of the books:  78\n",
      "Please state the quantity of the keychains:  33\n"
     ]
    }
   ],
   "source": [
    "##### 1 create a new list named products\n",
    "products = [\"t-shirt\", \"mug\", \"hat\", \"book\", \"keychain\"]\n",
    "# 2 create an empty dictionary\n",
    "inventory = {}\n",
    "# 3 ask user input for each product which is an element in products\n",
    "quantity_t_shirt = int(input(\"Please state the quantity of the t-shirts: \"))\n",
    "quantity_mug = int(input(\"Please state the quantity of the mugs: \"))\n",
    "quantity_hat = int(input(\"Please state the quantity of the hats: \"))\n",
    "quantity_book = int(input(\"Please state the quantity of the books: \"))\n",
    "quantity_keychain = int(input(\"Please state the quantity of the keychains: \"))\n",
    "## add key (product) and value (respective quantity) to dict inventory\n",
    "inventory[\"t-shirt\"] = quantity_t_shirt\n",
    "inventory[\"mug\"] = quantity_mug\n",
    "inventory[\"hat\"] = quantity_hat\n",
    "inventory[\"book\"] = quantity_book\n",
    "inventory[\"keychain\"] = quantity_keychain"
   ]
  },
  {
   "cell_type": "code",
   "execution_count": 2,
   "id": "4caf996a-cdef-48c1-8d9e-90d75e0303c2",
   "metadata": {},
   "outputs": [
    {
     "name": "stdout",
     "output_type": "stream",
     "text": [
      "{'t-shirt': 52, 'mug': 5, 'hat': 3, 'book': 78, 'keychain': 33}\n"
     ]
    }
   ],
   "source": [
    "## check if that worked out\n",
    "print(inventory)"
   ]
  },
  {
   "cell_type": "code",
   "execution_count": 3,
   "id": "3d4a3575-1277-42bf-93c6-fc9b5fb2c888",
   "metadata": {},
   "outputs": [
    {
     "name": "stdin",
     "output_type": "stream",
     "text": [
      "Please enter the first product:  mug\n",
      "Please enter the second product:  hat\n",
      "Please enter the third product:  book\n"
     ]
    },
    {
     "name": "stdout",
     "output_type": "stream",
     "text": [
      "{'book', 'mug', 'hat'}\n"
     ]
    }
   ],
   "source": [
    "# 4 create an empty set\n",
    "customer_orders = set()\n",
    "# 5 ask for input which products are being ordered\n",
    "order_1 = input(\"Please enter the first product: \")\n",
    "order_2 = input(\"Please enter the second product: \")\n",
    "order_3 = input(\"Please enter the third product: \")\n",
    "# 6 add to set customer_orders\n",
    "customer_orders.add(order_1)\n",
    "customer_orders.add(order_2)\n",
    "customer_orders.add(order_3)\n",
    "# print set\n",
    "print(customer_orders)"
   ]
  },
  {
   "cell_type": "code",
   "execution_count": 4,
   "id": "4b9a7bc5-b61b-4c5d-a480-01194c79cdc6",
   "metadata": {},
   "outputs": [
    {
     "data": {
      "text/plain": [
       "3"
      ]
     },
     "execution_count": 4,
     "metadata": {},
     "output_type": "execute_result"
    }
   ],
   "source": [
    "# 7 calculate total number of products ordered (customer_orders)\n",
    "total_products_ordered = len(customer_orders)\n",
    "total_products_ordered"
   ]
  },
  {
   "cell_type": "code",
   "execution_count": 5,
   "id": "491d49e8-c9cd-4dd4-a3f9-771de7ddde65",
   "metadata": {},
   "outputs": [
    {
     "name": "stdout",
     "output_type": "stream",
     "text": [
      "The total of all products was: 171\n",
      "The total of all products after the purchase now is: 168\n"
     ]
    }
   ],
   "source": [
    "# 7 calculate percentage of products ordered compared to available\n",
    "## first store total and remaining other product quantities in new variable\n",
    "total_products = inventory.get(\"t-shirt\") + inventory.get(\"mug\") + inventory.get(\"hat\") + inventory.get(\"book\") + inventory.get(\"keychain\")\n",
    "print(f\"The total of all products was: {total_products}\")\n",
    "remaining_products = total_products - total_products_ordered\n",
    "print(f\"The total of all products after the purchase now is: {remaining_products}\")"
   ]
  },
  {
   "cell_type": "code",
   "execution_count": 6,
   "id": "8ee8b3ac-452b-4403-aa3a-df2f88542867",
   "metadata": {},
   "outputs": [
    {
     "name": "stdout",
     "output_type": "stream",
     "text": [
      "1.7543859649122806 % of all available products have been ordered\n",
      "The percentage of the remaining products is: 98.24561403508771 %\n"
     ]
    }
   ],
   "source": [
    "## then calculate %\n",
    "percentage_ordered_products = 100 / total_products * total_products_ordered\n",
    "print(f\"{percentage_ordered_products} % of all available products have been ordered\")\n",
    "print(f\"The percentage of the remaining products is: {100/total_products*remaining_products} %\")"
   ]
  },
  {
   "cell_type": "code",
   "execution_count": 7,
   "id": "b9b1b1e4-fc57-4f3f-b8ac-3defc8d24aa9",
   "metadata": {},
   "outputs": [
    {
     "data": {
      "text/plain": [
       "(3, 1.7543859649122806)"
      ]
     },
     "execution_count": 7,
     "metadata": {},
     "output_type": "execute_result"
    }
   ],
   "source": [
    "## store these calculations in a new tuple\n",
    "order_status = (total_products_ordered, percentage_ordered_products)\n",
    "order_status"
   ]
  },
  {
   "cell_type": "code",
   "execution_count": 8,
   "id": "39d5209d-6921-40b4-bc43-41a93333c41f",
   "metadata": {},
   "outputs": [
    {
     "name": "stdout",
     "output_type": "stream",
     "text": [
      "Order Statistics:\n",
      "Total Products Ordered: 3\n",
      "Percentage of Products Ordered: 1.7543859649122806 %\n"
     ]
    }
   ],
   "source": [
    "# 8 print like in format\n",
    "print(\"Order Statistics:\")\n",
    "print(f\"Total Products Ordered: {total_products_ordered}\")\n",
    "print(f\"Percentage of Products Ordered: {percentage_ordered_products} %\")"
   ]
  },
  {
   "cell_type": "code",
   "execution_count": 11,
   "id": "663438d7-e2c9-4caa-9e22-cbc22f41ea06",
   "metadata": {},
   "outputs": [],
   "source": [
    "# 9 update quantities in inventory\n",
    "## I did this manually, how do you do it by code?\n",
    "inventory[\"mug\"] = 4\n",
    "inventory[\"hat\"] = 2\n",
    "inventory[\"book\"] = 77"
   ]
  },
  {
   "cell_type": "code",
   "execution_count": 41,
   "id": "40b90533-09b9-4fef-963a-8f8b6e80fc6a",
   "metadata": {},
   "outputs": [
    {
     "name": "stdout",
     "output_type": "stream",
     "text": [
      "Product t-shirt has 52 pieces left\n",
      "Product mug has 4 pieces left\n",
      "Product hat has 2 pieces left\n",
      "Product book has 77 pieces left\n",
      "Product keychain has 33 pieces left\n"
     ]
    }
   ],
   "source": [
    "# 10 of each product on separate lines.\n",
    "for key, value in inventory.items():\n",
    "    print(f\"Product {key} has {value} pieces left\")"
   ]
  }
 ],
 "metadata": {
  "kernelspec": {
   "display_name": "Python 3 (ipykernel)",
   "language": "python",
   "name": "python3"
  },
  "language_info": {
   "codemirror_mode": {
    "name": "ipython",
    "version": 3
   },
   "file_extension": ".py",
   "mimetype": "text/x-python",
   "name": "python",
   "nbconvert_exporter": "python",
   "pygments_lexer": "ipython3",
   "version": "3.11.7"
  }
 },
 "nbformat": 4,
 "nbformat_minor": 5
}
